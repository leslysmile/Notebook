{
 "cells": [
  {
   "cell_type": "markdown",
   "metadata": {},
   "source": [
    "# Introduction to ChatGPT"
   ]
  },
  {
   "cell_type": "markdown",
   "metadata": {},
   "source": [
    "## Install Azure OpenAI .NET SDK & other NuGet packages"
   ]
  },
  {
   "cell_type": "code",
   "execution_count": null,
   "metadata": {
    "dotnet_interactive": {
     "language": "csharp"
    },
    "polyglot_notebook": {
     "kernelName": "csharp"
    },
    "vscode": {
     "languageId": "polyglot-notebook"
    }
   },
   "outputs": [
    {
     "ename": "Error",
     "evalue": "Azure.AI.OpenAI version 2.2.0 cannot be added because version 2.1.0 was added previously.",
     "output_type": "error",
     "traceback": [
      "Azure.AI.OpenAI version 2.2.0 cannot be added because version 2.1.0 was added previously."
     ]
    }
   ],
   "source": [
    "#r \"nuget: Azure.AI.OpenAI, 2.1.0\"\n",
    "#r \"nuget: Microsoft.DotNet.Interactive, 1.0.0-beta.25177.1\""
   ]
  },
  {
   "cell_type": "code",
   "execution_count": 44,
   "metadata": {
    "dotnet_interactive": {
     "language": "csharp"
    },
    "polyglot_notebook": {
     "kernelName": "csharp"
    },
    "vscode": {
     "languageId": "polyglot-notebook"
    }
   },
   "outputs": [],
   "source": [
    "using System;\n",
    "using Azure.AI.OpenAI;\n",
    "using OpenAI;\n",
    "using Microsoft.DotNet.Interactive;"
   ]
  },
  {
   "cell_type": "markdown",
   "metadata": {},
   "source": [
    "## Get Azure OpenAI Service credentials"
   ]
  },
  {
   "cell_type": "code",
   "execution_count": 38,
   "metadata": {
    "dotnet_interactive": {
     "language": "csharp"
    },
    "polyglot_notebook": {
     "kernelName": "csharp"
    },
    "vscode": {
     "languageId": "polyglot-notebook"
    }
   },
   "outputs": [],
   "source": [
    "var endpoint = Environment.GetEnvironmentVariable(\"AOAI_ENDPOINT\");\n",
    "var key = Environment.GetEnvironmentVariable(\"AOAI_KEY\");\n",
    "var deploymentId = Environment.GetEnvironmentVariable(\"AOAI_DEPLOYMENTID\");"
   ]
  },
  {
   "cell_type": "markdown",
   "metadata": {},
   "source": [
    "## Configure OpenAI client"
   ]
  },
  {
   "cell_type": "code",
   "execution_count": 45,
   "metadata": {
    "dotnet_interactive": {
     "language": "csharp"
    },
    "polyglot_notebook": {
     "kernelName": "csharp"
    },
    "vscode": {
     "languageId": "polyglot-notebook"
    }
   },
   "outputs": [
    {
     "ename": "Error",
     "evalue": "System.ArgumentNullException: Value cannot be null. (Parameter 'key')\r\n   at System.ClientModel.Internal.Argument.AssertNotNullOrEmpty(String value, String name)\r\n   at System.ClientModel.ApiKeyCredential.Update(String key)\r\n   at System.ClientModel.ApiKeyCredential..ctor(String key)\r\n   at Azure.AzureKeyCredential..ctor(String key)\r\n   at Submission#36.<<Initialize>>d__0.MoveNext()\r\n--- End of stack trace from previous location ---\r\n   at Microsoft.CodeAnalysis.Scripting.ScriptExecutionState.RunSubmissionsAsync[TResult](ImmutableArray`1 precedingExecutors, Func`2 currentExecutor, StrongBox`1 exceptionHolderOpt, Func`2 catchExceptionOpt, CancellationToken cancellationToken)",
     "output_type": "error",
     "traceback": [
      "System.ArgumentNullException: Value cannot be null. (Parameter 'key')\r\n",
      "   at System.ClientModel.Internal.Argument.AssertNotNullOrEmpty(String value, String name)\r\n",
      "   at System.ClientModel.ApiKeyCredential.Update(String key)\r\n",
      "   at System.ClientModel.ApiKeyCredential..ctor(String key)\r\n",
      "   at Azure.AzureKeyCredential..ctor(String key)\r\n",
      "   at Submission#36.<<Initialize>>d__0.MoveNext()\r\n",
      "--- End of stack trace from previous location ---\r\n",
      "   at Microsoft.CodeAnalysis.Scripting.ScriptExecutionState.RunSubmissionsAsync[TResult](ImmutableArray`1 precedingExecutors, Func`2 currentExecutor, StrongBox`1 exceptionHolderOpt, Func`2 catchExceptionOpt, CancellationToken cancellationToken)"
     ]
    }
   ],
   "source": [
    "var client = new OpenAIClient(new Azure.AzureKeyCredential(key));"
   ]
  },
  {
   "cell_type": "markdown",
   "metadata": {},
   "source": [
    "## Define system prompt"
   ]
  },
  {
   "cell_type": "code",
   "execution_count": 30,
   "metadata": {
    "dotnet_interactive": {
     "language": "csharp"
    },
    "polyglot_notebook": {
     "kernelName": "csharp"
    },
    "vscode": {
     "languageId": "polyglot-notebook"
    }
   },
   "outputs": [],
   "source": [
    "var systemPrompt = \n",
    "    \"\"\"\n",
    "    You are a hiking enthusiast who helps people discover fun hikes in their area. You are upbeat and friendly. You introduce yourself when first saying hello. When helping people out, you always ask them for this information to inform the hiking recommendation you provide:\n",
    "\n",
    "    1. Where they are located\n",
    "    2. What hiking intensity they are looking for\n",
    "\n",
    "    You will then provide three suggestions for nearby hikes that vary in length after you get that information. You will also share an interesting fact about the local nature on the hikes when making a recommendation.\n",
    "    \"\"\";"
   ]
  },
  {
   "cell_type": "markdown",
   "metadata": {},
   "source": [
    "## Configure Chat Completion options"
   ]
  },
  {
   "cell_type": "code",
   "execution_count": 31,
   "metadata": {
    "dotnet_interactive": {
     "language": "csharp"
    },
    "polyglot_notebook": {
     "kernelName": "csharp"
    },
    "vscode": {
     "languageId": "polyglot-notebook"
    }
   },
   "outputs": [
    {
     "ename": "Error",
     "evalue": "(1,19): error CS0246: The type or namespace name 'ChatCompletionsOptions' could not be found (are you missing a using directive or an assembly reference?)",
     "output_type": "error",
     "traceback": [
      "(1,19): error CS0246: The type or namespace name 'ChatCompletionsOptions' could not be found (are you missing a using directive or an assembly reference?)"
     ]
    }
   ],
   "source": [
    "var options = new ChatCompletionsOptions\n",
    "{\n",
    "    MaxTokens=400,\n",
    "    Temperature=1f,\n",
    "    FrequencyPenalty=0.0f,\n",
    "    PresencePenalty=0.0f,\n",
    "    NucleusSamplingFactor = 0.95f // Top P\n",
    "};"
   ]
  },
  {
   "cell_type": "markdown",
   "metadata": {},
   "source": [
    "## Initialize Chat History"
   ]
  },
  {
   "cell_type": "code",
   "execution_count": 32,
   "metadata": {
    "dotnet_interactive": {
     "language": "csharp"
    },
    "polyglot_notebook": {
     "kernelName": "csharp"
    },
    "vscode": {
     "languageId": "polyglot-notebook"
    }
   },
   "outputs": [
    {
     "ename": "Error",
     "evalue": "(1,1): error CS0103: The name 'options' does not exist in the current context\r\n(1,26): error CS0246: The type or namespace name 'ChatMessage' could not be found (are you missing a using directive or an assembly reference?)\r\n(1,38): error CS0103: The name 'ChatRole' does not exist in the current context",
     "output_type": "error",
     "traceback": [
      "(1,1): error CS0103: The name 'options' does not exist in the current context\r\n",
      "(1,26): error CS0246: The type or namespace name 'ChatMessage' could not be found (are you missing a using directive or an assembly reference?)\r\n",
      "(1,38): error CS0103: The name 'ChatRole' does not exist in the current context"
     ]
    }
   ],
   "source": [
    "options.Messages.Add(new ChatMessage(ChatRole.System, systemPrompt));"
   ]
  },
  {
   "cell_type": "markdown",
   "metadata": {},
   "source": [
    "## Start chat"
   ]
  },
  {
   "cell_type": "code",
   "execution_count": 33,
   "metadata": {
    "dotnet_interactive": {
     "language": "csharp"
    },
    "polyglot_notebook": {
     "kernelName": "csharp"
    },
    "vscode": {
     "languageId": "polyglot-notebook"
    }
   },
   "outputs": [],
   "source": [
    "var chatting = true;"
   ]
  },
  {
   "cell_type": "code",
   "execution_count": 34,
   "metadata": {
    "dotnet_interactive": {
     "language": "csharp"
    },
    "polyglot_notebook": {
     "kernelName": "csharp"
    },
    "vscode": {
     "languageId": "polyglot-notebook"
    }
   },
   "outputs": [
    {
     "ename": "Error",
     "evalue": "(11,5): error CS0103: The name 'options' does not exist in the current context\r\n(11,30): error CS0246: The type or namespace name 'ChatMessage' could not be found (are you missing a using directive or an assembly reference?)\r\n(11,42): error CS0103: The name 'ChatRole' does not exist in the current context\r\n(12,35): error CS0103: The name 'client' does not exist in the current context\r\n(12,80): error CS0103: The name 'options' does not exist in the current context\r\n(15,5): error CS0103: The name 'options' does not exist in the current context\r\n(15,30): error CS0246: The type or namespace name 'ChatMessage' could not be found (are you missing a using directive or an assembly reference?)\r\n(15,42): error CS0103: The name 'ChatRole' does not exist in the current context\r\n(17,1): error CS0103: The name 'options' does not exist in the current context",
     "output_type": "error",
     "traceback": [
      "(11,5): error CS0103: The name 'options' does not exist in the current context\r\n",
      "(11,30): error CS0246: The type or namespace name 'ChatMessage' could not be found (are you missing a using directive or an assembly reference?)\r\n",
      "(11,42): error CS0103: The name 'ChatRole' does not exist in the current context\r\n",
      "(12,35): error CS0103: The name 'client' does not exist in the current context\r\n",
      "(12,80): error CS0103: The name 'options' does not exist in the current context\r\n",
      "(15,5): error CS0103: The name 'options' does not exist in the current context\r\n",
      "(15,30): error CS0246: The type or namespace name 'ChatMessage' could not be found (are you missing a using directive or an assembly reference?)\r\n",
      "(15,42): error CS0103: The name 'ChatRole' does not exist in the current context\r\n",
      "(17,1): error CS0103: The name 'options' does not exist in the current context"
     ]
    }
   ],
   "source": [
    "Console.WriteLine($\"System: {systemPrompt}\");\n",
    "while(chatting)\n",
    "{\n",
    "    var userPrompt = await Kernel.GetInputAsync(\"Your prompt\");\n",
    "    if(userPrompt.ToLowerInvariant() == \"q\")\n",
    "    {\n",
    "        chatting = false;\n",
    "        break;    \n",
    "    }\n",
    "    Console.WriteLine($\"User: {userPrompt}\");\n",
    "    options.Messages.Add(new ChatMessage(ChatRole.User, userPrompt));\n",
    "    var assistantResponse = await client.GetChatCompletionsAsync(deploymentId, options);\n",
    "    var response = assistantResponse.Value.Choices[0].Message.Content;\n",
    "    Console.WriteLine($\"Assistant: {response}\");\n",
    "    options.Messages.Add(new ChatMessage(ChatRole.Assistant, response));\n",
    "};\n",
    "options.Messages.Clear();"
   ]
  }
 ],
 "metadata": {
  "kernelspec": {
   "display_name": ".NET (C#)",
   "language": "C#",
   "name": ".net-csharp"
  },
  "language_info": {
   "name": "python",
   "version": "3.12.10"
  },
  "polyglot_notebook": {
   "kernelInfo": {
    "defaultKernelName": "csharp",
    "items": [
     {
      "aliases": [],
      "languageName": "csharp",
      "name": "csharp"
     }
    ]
   }
  }
 },
 "nbformat": 4,
 "nbformat_minor": 2
}
